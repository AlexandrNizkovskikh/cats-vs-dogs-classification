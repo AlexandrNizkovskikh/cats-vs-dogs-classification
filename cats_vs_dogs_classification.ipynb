{
  "nbformat": 4,
  "nbformat_minor": 0,
  "metadata": {
    "colab": {
      "provenance": [],
      "toc_visible": true,
      "gpuType": "T4"
    },
    "kernelspec": {
      "name": "python3",
      "display_name": "Python 3"
    },
    "language_info": {
      "name": "python"
    },
    "accelerator": "GPU"
  },
  "cells": [
    {
      "cell_type": "markdown",
      "source": [
        "# Введение"
      ],
      "metadata": {
        "id": "yEJbtGuHCYRz"
      }
    },
    {
      "cell_type": "markdown",
      "source": [
        "В данном проекте реализована задача классификации изображений с двумя классами: кошки и собаки.  \n",
        "\n",
        "Целью данного проекта является создание и обучение нейросетевой модели, способной с высокой точностью различать изображения кошек и собак. Для решения этой задачи используется предобученная модель MobileNet, которая была модифицирована под данную задачу с учетом специфики предоставленного набора данных\n",
        "\n",
        "Для обучения модели используется популярный датасет \"Кошки и Собаки\" (Cats and Dogs), который содержит тысячи изображений двух классов: кошек и собак"
      ],
      "metadata": {
        "id": "S4Do10QmCcJ2"
      }
    },
    {
      "cell_type": "markdown",
      "source": [
        "# Импорт библиотек"
      ],
      "metadata": {
        "id": "VJu4pvOADfNE"
      }
    },
    {
      "cell_type": "code",
      "source": [
        "import os\n",
        "import shutil\n",
        "from keras import layers\n",
        "from keras import models\n",
        "from keras import optimizers\n",
        "from tensorflow.keras.preprocessing.image import ImageDataGenerator\n",
        "from keras.applications import MobileNet\n",
        "from keras.models import Model\n",
        "from keras.layers import GlobalAveragePooling2D, Dense, Dropout, Input"
      ],
      "metadata": {
        "id": "0A-TTjLRDhH6"
      },
      "execution_count": null,
      "outputs": []
    },
    {
      "cell_type": "markdown",
      "source": [
        "# Загрузка и распаковка датасета"
      ],
      "metadata": {
        "id": "LfiIGKYyBL74"
      }
    },
    {
      "cell_type": "code",
      "source": [
        "!wget https://storage.yandexcloud.net/academy.ai/cat-and-dog.zip\n",
        "!unzip -qo \"cat-and-dog\" -d ./temp\n",
        "\n",
        "IMAGE_PATH = './temp/training_set/training_set/'\n",
        "BASE_DIR = './dataset/'"
      ],
      "metadata": {
        "id": "3qvR86XfBHQO"
      },
      "execution_count": null,
      "outputs": []
    },
    {
      "cell_type": "markdown",
      "source": [
        "# Train-val-test"
      ],
      "metadata": {
        "id": "JCT9JkLYBTph"
      }
    },
    {
      "cell_type": "code",
      "source": [
        "CLASS_LIST = sorted(os.listdir(IMAGE_PATH))\n",
        "CLASS_COUNT = len(CLASS_LIST)\n",
        "\n",
        "if os.path.exists(BASE_DIR):\n",
        "    shutil.rmtree(BASE_DIR)\n",
        "\n",
        "os.mkdir(BASE_DIR)\n",
        "train_dir = os.path.join(BASE_DIR, 'train')\n",
        "os.mkdir(train_dir)\n",
        "validation_dir = os.path.join(BASE_DIR, 'validation')\n",
        "os.mkdir(validation_dir)\n",
        "test_dir = os.path.join(BASE_DIR, 'test')\n",
        "os.mkdir(test_dir)"
      ],
      "metadata": {
        "id": "636WzjDFBRhP"
      },
      "execution_count": null,
      "outputs": []
    },
    {
      "cell_type": "markdown",
      "source": [
        "# Каталог для датасета"
      ],
      "metadata": {
        "id": "zi6DP6hvBkog"
      }
    },
    {
      "cell_type": "code",
      "source": [
        "def create_dataset(img_path, new_path, class_name, start_index, end_index):\n",
        "    src_path = os.path.join(img_path, class_name)\n",
        "    dst_path = os.path.join(new_path, class_name)\n",
        "    class_files = os.listdir(src_path)\n",
        "    os.mkdir(dst_path)\n",
        "    for fname in class_files[start_index:end_index]:\n",
        "        src = os.path.join(src_path, fname)\n",
        "        dst = os.path.join(dst_path, fname)\n",
        "        shutil.copyfile(src, dst)"
      ],
      "metadata": {
        "id": "u2XJQ73ABbMg"
      },
      "execution_count": null,
      "outputs": []
    },
    {
      "cell_type": "code",
      "source": [
        "for class_label in range(CLASS_COUNT):\n",
        "    class_name = CLASS_LIST[class_label]\n",
        "    create_dataset(IMAGE_PATH, train_dir, class_name, 0, 2000)\n",
        "    create_dataset(IMAGE_PATH, validation_dir, class_name, 2000, 3000)\n",
        "    create_dataset(IMAGE_PATH, test_dir, class_name, 3000, 4000)"
      ],
      "metadata": {
        "id": "et5RlYjYBdCa"
      },
      "execution_count": null,
      "outputs": []
    },
    {
      "cell_type": "markdown",
      "source": [
        "# Генерация данных"
      ],
      "metadata": {
        "id": "n-aKlh2LBzhn"
      }
    },
    {
      "cell_type": "code",
      "source": [
        "train_datagen = ImageDataGenerator(\n",
        "    rescale=1./255,\n",
        "    rotation_range=40,\n",
        "    width_shift_range=0.2,\n",
        "    height_shift_range=0.2,\n",
        "    shear_range=0.2,\n",
        "    zoom_range=0.2,\n",
        "    horizontal_flip=True,\n",
        "    fill_mode='nearest'\n",
        ")\n",
        "\n",
        "test_datagen = ImageDataGenerator(rescale=1./255)\n",
        "\n",
        "train_generator = train_datagen.flow_from_directory(\n",
        "    train_dir,\n",
        "    target_size=(150, 150),\n",
        "    batch_size=32,\n",
        "    class_mode='categorical'\n",
        ")\n",
        "\n",
        "validation_generator = test_datagen.flow_from_directory(\n",
        "    validation_dir,\n",
        "    target_size=(150, 150),\n",
        "    batch_size=32,\n",
        "    class_mode='categorical'\n",
        ")\n",
        "\n",
        "test_generator = test_datagen.flow_from_directory(\n",
        "    test_dir,\n",
        "    target_size=(150, 150),\n",
        "    batch_size=20,\n",
        "    class_mode='categorical'\n",
        ")"
      ],
      "metadata": {
        "id": "lPhrh1mMBwS7"
      },
      "execution_count": null,
      "outputs": []
    },
    {
      "cell_type": "markdown",
      "source": [
        "# Константы"
      ],
      "metadata": {
        "id": "gMSQugxGB9_o"
      }
    },
    {
      "cell_type": "code",
      "source": [
        "IMG_WIDTH = 150\n",
        "IMG_HEIGHT = 150\n",
        "NUM_CLASSES = CLASS_COUNT"
      ],
      "metadata": {
        "id": "1BcUJgUrB7o3"
      },
      "execution_count": null,
      "outputs": []
    },
    {
      "cell_type": "markdown",
      "source": [
        "# Создание кастомной модели на основе архитектуры MobileNet"
      ],
      "metadata": {
        "id": "GHxfePloCCLv"
      }
    },
    {
      "cell_type": "code",
      "source": [
        "def model_maker():\n",
        "    base_model = MobileNet(include_top=False, input_shape=(IMG_WIDTH, IMG_HEIGHT, 3))\n",
        "\n",
        "    for layer in base_model.layers[:]:\n",
        "        layer.trainable = False\n",
        "\n",
        "    input = Input(shape=(IMG_WIDTH, IMG_HEIGHT, 3))\n",
        "    custom_model = base_model(input)\n",
        "    custom_model = GlobalAveragePooling2D()(custom_model)\n",
        "    custom_model = Dense(64, activation='relu')(custom_model)\n",
        "    custom_model = Dropout(0.5)(custom_model)\n",
        "    predictions = Dense(NUM_CLASSES, activation='softmax')(custom_model)\n",
        "\n",
        "    return Model(inputs=input, outputs=predictions)\n",
        "\n",
        "model = model_maker()\n",
        "model.compile(optimizer=optimizers.Adam(learning_rate=0.001), loss='categorical_crossentropy', metrics=['accuracy'])"
      ],
      "metadata": {
        "id": "ErX83RMNB_ub"
      },
      "execution_count": null,
      "outputs": []
    },
    {
      "cell_type": "markdown",
      "source": [
        "# Обучение"
      ],
      "metadata": {
        "id": "CNjElFhECLPA"
      }
    },
    {
      "cell_type": "code",
      "source": [
        "history = model.fit(\n",
        "    train_generator,\n",
        "    steps_per_epoch=100,\n",
        "    epochs=30,\n",
        "    validation_data=validation_generator,\n",
        "    validation_steps=50\n",
        ")"
      ],
      "metadata": {
        "id": "B4QBf2a2CKzh"
      },
      "execution_count": null,
      "outputs": []
    },
    {
      "cell_type": "markdown",
      "source": [
        "# Оценка"
      ],
      "metadata": {
        "id": "SjbiqhrQCQuz"
      }
    },
    {
      "cell_type": "code",
      "source": [
        "test_loss, test_acc = model.evaluate(test_generator, steps=50)\n",
        "print('Точность на контрольной выборке:', test_acc)"
      ],
      "metadata": {
        "id": "peR3wKIQCQQS"
      },
      "execution_count": null,
      "outputs": []
    }
  ]
}